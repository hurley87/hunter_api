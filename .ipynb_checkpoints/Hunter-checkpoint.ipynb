{
 "cells": [
  {
   "cell_type": "code",
   "execution_count": 19,
   "metadata": {},
   "outputs": [],
   "source": [
    "from pyhunter import PyHunter"
   ]
  },
  {
   "cell_type": "code",
   "execution_count": 20,
   "metadata": {},
   "outputs": [],
   "source": [
    "api_key = ''\n",
    "hunter = PyHunter(api_key) "
   ]
  },
  {
   "cell_type": "code",
   "execution_count": 21,
   "metadata": {},
   "outputs": [],
   "source": [
    "account_domain = ''\n",
    "response = hunter.domain_search(account_domain)"
   ]
  },
  {
   "cell_type": "code",
   "execution_count": 22,
   "metadata": {},
   "outputs": [
    {
     "name": "stdout",
     "output_type": "stream",
     "text": [
      "email\n",
      "email\n",
      "email\n",
      "email\n",
      "email\n",
      "email\n",
      "email\n",
      "email\n",
      "email\n",
      "email\n"
     ]
    }
   ],
   "source": [
    "# iterate over contacts and save [name, email, confidence, source, linkedin] to a python list\n",
    "leads = []\n",
    "for email in response['emails']:\n",
    "    print('email')\n",
    "    # add code here  "
   ]
  },
  {
   "cell_type": "code",
   "execution_count": 9,
   "metadata": {},
   "outputs": [],
   "source": [
    "# create a dataframe from list of leads - hint: Google \"create dataframe from list of dictionaries\""
   ]
  },
  {
   "cell_type": "code",
   "execution_count": 10,
   "metadata": {},
   "outputs": [],
   "source": [
    "# slice by email confidence greater than 99 and save to new dataframe called \"glengarry leads\" - hint: Google \"pandas filter rows by value\""
   ]
  },
  {
   "cell_type": "code",
   "execution_count": 11,
   "metadata": {},
   "outputs": [],
   "source": [
    "# create CSV of the glengarry leads - hint: Google \"Create dataframe from list of dictionaries\""
   ]
  },
  {
   "cell_type": "code",
   "execution_count": 23,
   "metadata": {},
   "outputs": [],
   "source": [
    "# use PyHunter to create a lead list and add - hint: search list enpoint in PyHunter API docs"
   ]
  },
  {
   "cell_type": "code",
   "execution_count": 24,
   "metadata": {},
   "outputs": [],
   "source": [
    "# create a function that passes in account domain as a parameter and creates CSV and list in Hunter"
   ]
  },
  {
   "cell_type": "code",
   "execution_count": null,
   "metadata": {},
   "outputs": [],
   "source": [
    "# iterate over 5 domains and use newly created function "
   ]
  }
 ],
 "metadata": {
  "kernelspec": {
   "display_name": "Python 3",
   "language": "python",
   "name": "python3"
  },
  "language_info": {
   "codemirror_mode": {
    "name": "ipython",
    "version": 3
   },
   "file_extension": ".py",
   "mimetype": "text/x-python",
   "name": "python",
   "nbconvert_exporter": "python",
   "pygments_lexer": "ipython3",
   "version": "3.6.5"
  }
 },
 "nbformat": 4,
 "nbformat_minor": 2
}
