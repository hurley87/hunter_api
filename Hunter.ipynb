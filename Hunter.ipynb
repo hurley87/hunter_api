{
 "cells": [
  {
   "cell_type": "code",
   "execution_count": 1,
   "metadata": {},
   "outputs": [],
   "source": [
    "from pyhunter import PyHunter"
   ]
  },
  {
   "cell_type": "code",
   "execution_count": 2,
   "metadata": {},
   "outputs": [],
   "source": [
    "api_key = 'bc61d26a85366913905788bd0fc0d41c07ea4024'\n",
    "hunter = PyHunter(api_key) "
   ]
  },
  {
   "cell_type": "code",
   "execution_count": 3,
   "metadata": {},
   "outputs": [],
   "source": [
    "account_domain = 'loopio.com'\n",
    "response = hunter.domain_search(account_domain)"
   ]
  },
  {
   "cell_type": "code",
   "execution_count": 4,
   "metadata": {},
   "outputs": [
    {
     "name": "stdout",
     "output_type": "stream",
     "text": [
      "{'value': 'galina@loopio.com', 'type': 'personal', 'confidence': 99, 'sources': [{'domain': 'benzinga.com', 'uri': 'http://benzinga.com/pressreleases/18/08/g12126968/loopio-adds-former-salesforce-executive-jenny-cheng-to-board-of-direct', 'extracted_on': '2018-11-18', 'last_seen_on': '2018-11-18', 'still_on_page': True}, {'domain': 'stockguru.com', 'uri': 'http://stockguru.com/2018/02/13/loopio-raises-9m-from-openview-to-fuel-growth', 'extracted_on': '2018-11-15', 'last_seen_on': '2018-11-15', 'still_on_page': True}], 'first_name': None, 'last_name': None, 'position': None, 'seniority': None, 'department': None, 'linkedin': None, 'twitter': None, 'phone_number': None}\n",
      "{'value': 'support@loopio.com', 'type': 'generic', 'confidence': 93, 'sources': [{'domain': 'demo2.qa01.loopio.com', 'uri': 'http://demo2.qa01.loopio.com/forgot_password', 'extracted_on': '2018-10-18', 'last_seen_on': '2018-10-18', 'still_on_page': True}, {'domain': 'loopio.com', 'uri': 'http://loopio.com/terms', 'extracted_on': '2016-03-25', 'last_seen_on': '2018-11-09', 'still_on_page': True}, {'domain': 'loopio.com', 'uri': 'http://loopio.com/terms/', 'extracted_on': '2016-01-04', 'last_seen_on': '2018-08-22', 'still_on_page': True}, {'domain': 'loopio.com', 'uri': 'http://loopio.com/privacy', 'extracted_on': '2016-03-25', 'last_seen_on': '2017-09-11', 'still_on_page': False}, {'domain': 'loopio.com', 'uri': 'http://loopio.com/privacy/', 'extracted_on': '2016-01-04', 'last_seen_on': '2017-08-30', 'still_on_page': False}], 'first_name': None, 'last_name': None, 'position': None, 'seniority': None, 'department': 'support', 'linkedin': None, 'twitter': None, 'phone_number': None}\n",
      "{'value': 'privacy@loopio.com', 'type': 'generic', 'confidence': 79, 'sources': [{'domain': 'loopio.com', 'uri': 'http://loopio.com/privacy', 'extracted_on': '2016-03-25', 'last_seen_on': '2018-11-09', 'still_on_page': True}, {'domain': 'loopio.com', 'uri': 'http://loopio.com/privacy/', 'extracted_on': '2016-01-04', 'last_seen_on': '2017-08-30', 'still_on_page': False}], 'first_name': None, 'last_name': None, 'position': None, 'seniority': None, 'department': 'legal', 'linkedin': None, 'twitter': None, 'phone_number': None}\n",
      "{'value': 'pull@loopio.com', 'type': 'generic', 'confidence': 78, 'sources': [{'domain': 'pushpinmap.com', 'uri': 'http://pushpinmap.com', 'extracted_on': '2018-09-14', 'last_seen_on': '2018-09-14', 'still_on_page': True}], 'first_name': None, 'last_name': None, 'position': None, 'seniority': None, 'department': None, 'linkedin': None, 'twitter': None, 'phone_number': None}\n",
      "{'value': 'work@loopio.com', 'type': 'generic', 'confidence': 78, 'sources': [{'domain': 'loopio.com', 'uri': 'http://loopio.com/contact', 'extracted_on': '2018-03-30', 'last_seen_on': '2018-11-09', 'still_on_page': True}, {'domain': 'hnhiring.com', 'uri': 'http://hnhiring.com', 'extracted_on': '2018-06-02', 'last_seen_on': '2018-06-24', 'still_on_page': False}, {'domain': 'loopio.com', 'uri': 'http://loopio.com/jobs', 'extracted_on': '2017-08-30', 'last_seen_on': '2017-08-30', 'still_on_page': False}, {'domain': 'startupnorth.jobboard.io', 'uri': 'http://startupnorth.jobboard.io/jobs/1675323-sales-development-manager-at-loopio', 'extracted_on': '2017-06-06', 'last_seen_on': '2017-06-06', 'still_on_page': False}, {'domain': 'jobs.startupnorth.ca', 'uri': 'http://jobs.startupnorth.ca/jobs/1246759-full-stack-software-developer-at-loopio', 'extracted_on': '2017-03-23', 'last_seen_on': '2017-03-23', 'still_on_page': False}, {'domain': 'jobs.ladieslearningcode.com', 'uri': 'http://jobs.ladieslearningcode.com/job_posts/743', 'extracted_on': '2017-03-22', 'last_seen_on': '2017-03-22', 'still_on_page': False}, {'domain': 'startupnorth.jobboard.io', 'uri': 'http://startupnorth.jobboard.io/jobs/576969-full-stack-software-developer-at-loopio', 'extracted_on': '2016-10-27', 'last_seen_on': '2016-10-27', 'still_on_page': False}, {'domain': 'startupnorth.jobboard.io', 'uri': 'http://startupnorth.jobboard.io/jobs/577030-sales-development-representative-at-loopio', 'extracted_on': '2016-10-27', 'last_seen_on': '2016-10-27', 'still_on_page': False}, {'domain': 'loopio.com', 'uri': 'http://loopio.com/careers', 'extracted_on': '2016-05-03', 'last_seen_on': '2017-09-11', 'still_on_page': False}, {'domain': 'loopio.com', 'uri': 'http://loopio.com/jobs/', 'extracted_on': '2016-01-04', 'last_seen_on': '2017-08-30', 'still_on_page': False}], 'first_name': None, 'last_name': None, 'position': None, 'seniority': None, 'department': None, 'linkedin': None, 'twitter': None, 'phone_number': None}\n",
      "{'value': 'legal@loopio.com', 'type': 'generic', 'confidence': 77, 'sources': [{'domain': 'testassure.com', 'uri': 'http://testassure.com/website-terms-of-use', 'extracted_on': '2018-11-14', 'last_seen_on': '2018-11-14', 'still_on_page': True}, {'domain': 'loopio.com', 'uri': 'http://loopio.com/website-terms', 'extracted_on': '2018-03-30', 'last_seen_on': '2018-12-06', 'still_on_page': True}], 'first_name': None, 'last_name': None, 'position': None, 'seniority': None, 'department': 'legal', 'linkedin': None, 'twitter': None, 'phone_number': None}\n"
     ]
    }
   ],
   "source": [
    "# iterate over contacts and save [name, email, confidence, source, linkedin] to a python list\n",
    "leads = []\n",
    "for email in response['emails']:\n",
    "    print(email)\n",
    "    # add code here  "
   ]
  },
  {
   "cell_type": "code",
   "execution_count": 9,
   "metadata": {},
   "outputs": [],
   "source": [
    "# create a dataframe from list of leads - hint: Google \"create dataframe from list of dictionaries\""
   ]
  },
  {
   "cell_type": "code",
   "execution_count": 10,
   "metadata": {},
   "outputs": [],
   "source": [
    "# slice by email confidence greater than 99 and save to new dataframe called \"glengarry leads\" - hint: Google \"pandas filter rows by value\""
   ]
  },
  {
   "cell_type": "code",
   "execution_count": 11,
   "metadata": {},
   "outputs": [],
   "source": [
    "# create CSV of the glengarry leads - hint: Google \"Create dataframe from list of dictionaries\""
   ]
  },
  {
   "cell_type": "code",
   "execution_count": 23,
   "metadata": {},
   "outputs": [],
   "source": [
    "# use PyHunter to create a lead list and add - hint: search list enpoint in PyHunter API docs"
   ]
  },
  {
   "cell_type": "code",
   "execution_count": 24,
   "metadata": {},
   "outputs": [],
   "source": [
    "# create a function that passes in account domain as a parameter and creates CSV and list in Hunter"
   ]
  },
  {
   "cell_type": "code",
   "execution_count": null,
   "metadata": {},
   "outputs": [],
   "source": [
    "# iterate over 5 domains and use newly created function "
   ]
  }
 ],
 "metadata": {
  "kernelspec": {
   "display_name": "Python 3",
   "language": "python",
   "name": "python3"
  },
  "language_info": {
   "codemirror_mode": {
    "name": "ipython",
    "version": 3
   },
   "file_extension": ".py",
   "mimetype": "text/x-python",
   "name": "python",
   "nbconvert_exporter": "python",
   "pygments_lexer": "ipython3",
   "version": "3.6.5"
  }
 },
 "nbformat": 4,
 "nbformat_minor": 2
}
